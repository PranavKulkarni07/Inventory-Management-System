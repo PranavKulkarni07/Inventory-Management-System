{
  "nbformat": 4,
  "nbformat_minor": 0,
  "metadata": {
    "colab": {
      "name": "project.ipynb",
      "provenance": [],
      "collapsed_sections": []
    },
    "kernelspec": {
      "name": "python3",
      "display_name": "Python 3"
    },
    "language_info": {
      "name": "python"
    }
  },
  "cells": [
    {
      "cell_type": "markdown",
      "metadata": {
        "id": "g-HB0fPsn3aB"
      },
      "source": [
        "## **Products**"
      ]
    },
    {
      "cell_type": "code",
      "metadata": {
        "id": "ev5cfVWaKiW8"
      },
      "source": [
        "import json \n",
        "dct={\"1001\":{\"name\":\"Chocolate cake\",\"quantity\":30,\"price\":100}\n",
        "    ,\"1002\":{\"name\":\"Black Forest cake\",\"quantity\":40,\"price\":120}\n",
        "    ,\"1003\":{\"name\":\"Vanilla cake\",\"quantity\":35,\"price\":110}\n",
        "    ,\"1004\":{\"name\":\"Mango cake\",\"quantity\":80,\"price\":130}\n",
        "    ,\"1005\":{\"name\":\"Strawberry cake\",\"quantity\":50,\"price\":125}\n",
        "    ,\"1006\":{\"name\":\"Pineapple cake\",\"quantity\":45,\"price\":150}\n",
        "    ,\"1007\":{\"name\":\"Blueberry cake\",\"quantity\":30,\"price\":160}\n",
        "    ,\"1008\":{\"name\":\"Funfetti cake\",\"quantity\":50,\"price\":220}\n",
        "    ,\"1009\":{\"name\":\"Lemon cake\",\"quantity\":40,\"price\":525}\n",
        "    ,\"1010\":{\"name\":\"Coffee cake\",\"quantity\":60,\"price\":335}\n",
        "    ,\"1011\":{\"name\":\"Banana cake\",\"quantity\":90,\"price\":245}\n",
        "    ,\"1012\":{\"name\":\"Chocolate Pastry\",\"quantity\":190,\"price\":150}\n",
        "    ,\"1013\":{\"name\":\"Kit Kat Chocolate\",\"quantity\":80,\"price\":5}\n",
        "    ,\"1014\":{\"name\":\"American Red Velvet\",\"quantity\":90,\"price\":755}\n",
        "    ,\"1015\":{\"name\":\"Choco cake\",\"quantity\":35,\"price\":425}\n",
        "    ,\"1016\":{\"name\":\"Dairy Milk\",\"quantity\":90,\"price\":10}\n",
        "    ,\"1017\":{\"name\":\"Silk Cadbury\",\"quantity\":70,\"price\":50}\n",
        "    ,\"1018\":{\"name\":\"Snickers\",\"quantity\":100,\"price\":50}\n",
        "    ,\"1019\":{\"name\":\"Twix\",\"quantity\":90,\"price\":50}\n",
        "    ,\"1020\":{\"name\":\"Milky Bar Chocolate \",\"quantity\":100,\"price\":50}\n",
        "    ,\"1021\":{\"name\":\"Five star\",\"quantity\":330,\"price\":50}\n",
        "    ,\"1022\":{\"name\":\"Perk\",\"quantity\":90,\"price\":40}\n",
        "    ,\"1023\":{\"name\":\"Black Bourbon\",\"quantity\":150,\"price\":25}\n",
        "    ,\"1024\":{\"name\":\"Parle\",\"quantity\":100,\"price\":5}\n",
        "    ,\"1025\":{\"name\":\"Marie\",\"quantity\":50,\"price\":50}\n",
        "    ,\"1026\":{\"name\":\"Good Day\",\"quantity\":75,\"price\":20}\n",
        "    ,\"1027\":{\"name\":\"Oreo\",\"quantity\":40,\"price\":50}\n",
        "    ,\"1028\":{\"name\":\"Hide and seek\",\"quantity\":50,\"price\":10}\n",
        "    ,\"1029\":{\"name\":\"The Hershey Chocolate\",\"quantity\":80,\"price\":25}\n",
        "    ,\"1030\":{\"name\":\"Monacco\",\"quantity\":35,\"price\":15}}"
      ],
      "execution_count": 63,
      "outputs": []
    },
    {
      "cell_type": "code",
      "metadata": {
        "id": "d30AIE18l7VO"
      },
      "source": [
        "with open(\"data.json\",\"w\") as outfile:\n",
        "   json.dump(dct,outfile)"
      ],
      "execution_count": 27,
      "outputs": []
    },
    {
      "cell_type": "code",
      "metadata": {
        "id": "kHgikUVPnUFu"
      },
      "source": [
        "import json\n",
        "\n",
        "fd= open(\"data.json\",'r')\n",
        "r=fd.read()\n",
        "fd.close()\n",
        "\n",
        "records=json.loads(r)"
      ],
      "execution_count": 62,
      "outputs": []
    },
    {
      "cell_type": "markdown",
      "metadata": {
        "id": "2jmWV8sYnxPT"
      },
      "source": [
        "## **Purchase** **Code**"
      ]
    },
    {
      "cell_type": "code",
      "metadata": {
        "colab": {
          "base_uri": "https://localhost:8080/"
        },
        "id": "WOvrKGI0n1vW",
        "outputId": "f6c86641-e0dc-4c83-a279-9ad8f837f7e1"
      },
      "source": [
        "ui_product= str(input(\"Enter the product ID: \"))\n",
        "ui_quantity= int(input(\"Enter the quantity:\"))\n",
        "print(\"Product Name:\",records[ui_product]['name'])\n",
        "print(\"Product Price:\",records[ui_product]['price'])\n",
        "print(\"Total bill amount:\",records[ui_product]['price']*ui_quantity)\n",
        "records[ui_product]['quantity']=records[ui_product]['quantity']-ui_quantity"
      ],
      "execution_count": 64,
      "outputs": [
        {
          "output_type": "stream",
          "name": "stdout",
          "text": [
            "Enter the product ID: 1002\n",
            "Enter the quantity:10\n",
            "Product Name: Black Forest cake\n",
            "Product Price: 120\n",
            "Total bill amount: 1200\n"
          ]
        }
      ]
    },
    {
      "cell_type": "markdown",
      "metadata": {
        "id": "x12FUpYKzQSK"
      },
      "source": [
        "### **Updation of Data**"
      ]
    },
    {
      "cell_type": "code",
      "metadata": {
        "id": "PdcvrjBdzY3h"
      },
      "source": [
        "js = json.dumps(records)\n",
        "\n",
        "fd=open(\"data.json\",'w')\n",
        "fd.write(js)\n",
        "fd.close()"
      ],
      "execution_count": 65,
      "outputs": []
    },
    {
      "cell_type": "markdown",
      "metadata": {
        "id": "7VaKQB_B0MhZ"
      },
      "source": [
        "## **Sales**"
      ]
    },
    {
      "cell_type": "code",
      "metadata": {
        "colab": {
          "base_uri": "https://localhost:8080/"
        },
        "id": "WGTtCxcb0QT5",
        "outputId": "3675582d-0be8-436a-abc8-72bbb8c83418"
      },
      "source": [
        "{'Product name': records[ui_product]['name'],'product': ui_product,'quantity':ui_quantity,'price':records[ui_product]['price']*ui_quantity}"
      ],
      "execution_count": 67,
      "outputs": [
        {
          "output_type": "execute_result",
          "data": {
            "text/plain": [
              "{'Product name': 'Black Forest cake',\n",
              " 'price': 1200,\n",
              " 'product': '1002',\n",
              " 'quantity': 10}"
            ]
          },
          "metadata": {},
          "execution_count": 67
        }
      ]
    },
    {
      "cell_type": "code",
      "metadata": {
        "id": "6rna4FPH26wg"
      },
      "source": [
        "sales={1:{'product': ui_product,'quantity':ui_quantity,'price':records[ui_product]['price']*ui_quantity},\n",
        "       2:{'product': ui_product,'quantity':ui_quantity,'price':records[ui_product]['price']*ui_quantity},\n",
        "       3:{'product': ui_product,'quantity':ui_quantity,'price':records[ui_product]['price']*ui_quantity}}"
      ],
      "execution_count": 68,
      "outputs": []
    },
    {
      "cell_type": "code",
      "metadata": {
        "colab": {
          "base_uri": "https://localhost:8080/",
          "height": 52
        },
        "id": "MDjAX9mh4Adl",
        "outputId": "2057f277-3da0-4633-d738-e8650f310ff2"
      },
      "source": [
        "sale=json.dumps(sales)\n",
        "sale"
      ],
      "execution_count": 69,
      "outputs": [
        {
          "output_type": "execute_result",
          "data": {
            "application/vnd.google.colaboratory.intrinsic+json": {
              "type": "string"
            },
            "text/plain": [
              "'{\"1\": {\"product\": \"1002\", \"quantity\": 10, \"price\": 1200}, \"2\": {\"product\": \"1002\", \"quantity\": 10, \"price\": 1200}, \"3\": {\"product\": \"1002\", \"quantity\": 10, \"price\": 1200}}'"
            ]
          },
          "metadata": {},
          "execution_count": 69
        }
      ]
    }
  ]
}