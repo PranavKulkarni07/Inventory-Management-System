{
  "nbformat": 4,
  "nbformat_minor": 0,
  "metadata": {
    "colab": {
      "name": "project1.ipynb",
      "provenance": [],
      "collapsed_sections": []
    },
    "kernelspec": {
      "name": "python3",
      "display_name": "Python 3"
    },
    "language_info": {
      "name": "python"
    }
  },
  "cells": [
    {
      "cell_type": "markdown",
      "metadata": {
        "id": "L0uteUEu5Dsd"
      },
      "source": [
        "## **Adding New Items**"
      ]
    },
    {
      "cell_type": "code",
      "metadata": {
        "id": "X6E90Pgr5JZu"
      },
      "source": [
        "import json\n",
        "fd = open(\"data.json\",'r')\n",
        "r =  fd.read()\n",
        "fd.close()\n",
        "records=json.loads(r)"
      ],
      "execution_count": 21,
      "outputs": []
    },
    {
      "cell_type": "code",
      "metadata": {
        "colab": {
          "base_uri": "https://localhost:8080/"
        },
        "id": "ZBOvwKSY6eVW",
        "outputId": "6817cad2-c520-468d-8545-7975afd82722"
      },
      "source": [
        "records"
      ],
      "execution_count": 22,
      "outputs": [
        {
          "output_type": "execute_result",
          "data": {
            "text/plain": [
              "{'1001': {'name': 'Chocolate cake', 'price': 100, 'quantity': 30},\n",
              " '1002': {'name': 'Black Forest cake', 'price': 120, 'quantity': 40},\n",
              " '1003': {'name': 'Vanilla cake', 'price': 110, 'quantity': 35},\n",
              " '1004': {'name': 'Mango cake', 'price': 130, 'quantity': 80},\n",
              " '1005': {'name': 'Strawberry cake', 'price': 125, 'quantity': 50},\n",
              " '1006': {'name': 'Pineapple cake', 'price': 150, 'quantity': 40},\n",
              " '1007': {'name': 'Blueberry cake', 'price': 160, 'quantity': 30},\n",
              " '1008': {'name': 'Funfetti cake', 'price': 220, 'quantity': 50},\n",
              " '1009': {'name': 'Lemon cake', 'price': 525, 'quantity': 40},\n",
              " '1010': {'name': 'Coffee cake', 'price': 335, 'quantity': 60},\n",
              " '1011': {'name': 'Banana cake', 'price': 245, 'quantity': 75},\n",
              " '1012': {'name': 'Chocolate Pastry', 'price': 150, 'quantity': 190},\n",
              " '1013': {'name': 'Kit Kat Chocolate', 'price': 5, 'quantity': 80},\n",
              " '1014': {'name': 'American Red Velvet', 'price': 755, 'quantity': 90},\n",
              " '1015': {'name': 'Choco cake', 'price': 425, 'quantity': 35},\n",
              " '1016': {'name': 'Dairy Milk', 'price': 10, 'quantity': 90},\n",
              " '1017': {'name': 'Silk Cadbury', 'price': 50, 'quantity': 70},\n",
              " '1018': {'name': 'Snickers', 'price': 50, 'quantity': 100},\n",
              " '1019': {'name': 'Twix', 'price': 50, 'quantity': 90},\n",
              " '1020': {'name': 'Milky Bar Chocolate ', 'price': 50, 'quantity': 100},\n",
              " '1021': {'name': 'Five star', 'price': 50, 'quantity': 330},\n",
              " '1022': {'name': 'Perk', 'price': 40, 'quantity': 90},\n",
              " '1023': {'name': 'Black Bourbon', 'price': 25, 'quantity': 150},\n",
              " '1024': {'name': 'Parle', 'price': 5, 'quantity': 100},\n",
              " '1025': {'name': 'Marie', 'price': 50, 'quantity': 50},\n",
              " '1026': {'name': 'Good Day', 'price': 20, 'quantity': 75},\n",
              " '1027': {'name': 'Oreo', 'price': 50, 'quantity': 40},\n",
              " '1028': {'name': 'Hide and seek', 'price': 10, 'quantity': 50},\n",
              " '1029': {'name': 'The Hershey Chocolate', 'price': 25, 'quantity': 80},\n",
              " '1030': {'name': 'Monacco', 'price': 15, 'quantity': 35}}"
            ]
          },
          "metadata": {},
          "execution_count": 22
        }
      ]
    },
    {
      "cell_type": "markdown",
      "metadata": {
        "id": "7T5GVMze8M-i"
      },
      "source": [
        "## **Add new item into inventory**"
      ]
    },
    {
      "cell_type": "code",
      "metadata": {
        "colab": {
          "base_uri": "https://localhost:8080/"
        },
        "id": "vNTHG-0J8T2p",
        "outputId": "cf932e02-5e25-44b8-ee01-87fa48b1a409"
      },
      "source": [
        "product_ID=str(input(\"Enter product ID\"))\n",
        "name=str(input(\"Enter name of product\"))\n",
        "price=int(input(\"Enter price\"))\n",
        "quantity=int(input(\"Enter quantity\"))\n",
        "records[product_ID]={'name':name,'price':price,'quantity':quantity}\n",
        "js=json.dumps(records)\n",
        "fd=open(\"data.json\",'w');\n",
        "fd.write(js)\n",
        "fd.close()"
      ],
      "execution_count": 25,
      "outputs": [
        {
          "name": "stdout",
          "output_type": "stream",
          "text": [
            "Enter product ID1031\n",
            "Enter name of productS\n",
            "Enter price50\n",
            "Enter quantity100\n"
          ]
        }
      ]
    },
    {
      "cell_type": "code",
      "metadata": {
        "colab": {
          "base_uri": "https://localhost:8080/"
        },
        "id": "3xXKcT9R99_2",
        "outputId": "9277d3b2-1cb8-49ef-97cc-dc3dbe8db759"
      },
      "source": [
        "records"
      ],
      "execution_count": 26,
      "outputs": [
        {
          "output_type": "execute_result",
          "data": {
            "text/plain": [
              "{'1001': {'name': 'Chocolate cake', 'price': 100, 'quantity': 30},\n",
              " '1002': {'name': 'Black Forest cake', 'price': 120, 'quantity': 40},\n",
              " '1003': {'name': 'Vanilla cake', 'price': 110, 'quantity': 35},\n",
              " '1004': {'name': 'Mango cake', 'price': 130, 'quantity': 80},\n",
              " '1005': {'name': 'Strawberry cake', 'price': 125, 'quantity': 50},\n",
              " '1006': {'name': 'Pineapple cake', 'price': 150, 'quantity': 40},\n",
              " '1007': {'name': 'Blueberry cake', 'price': 160, 'quantity': 30},\n",
              " '1008': {'name': 'Funfetti cake', 'price': 220, 'quantity': 50},\n",
              " '1009': {'name': 'Lemon cake', 'price': 525, 'quantity': 40},\n",
              " '1010': {'name': 'Coffee cake', 'price': 335, 'quantity': 60},\n",
              " '1011': {'name': 'Banana cake', 'price': 245, 'quantity': 75},\n",
              " '1012': {'name': 'Chocolate Pastry', 'price': 150, 'quantity': 190},\n",
              " '1013': {'name': 'Kit Kat Chocolate', 'price': 5, 'quantity': 80},\n",
              " '1014': {'name': 'American Red Velvet', 'price': 755, 'quantity': 90},\n",
              " '1015': {'name': 'Choco cake', 'price': 425, 'quantity': 35},\n",
              " '1016': {'name': 'Dairy Milk', 'price': 10, 'quantity': 90},\n",
              " '1017': {'name': 'Silk Cadbury', 'price': 50, 'quantity': 70},\n",
              " '1018': {'name': 'Snickers', 'price': 50, 'quantity': 100},\n",
              " '1019': {'name': 'Twix', 'price': 50, 'quantity': 90},\n",
              " '1020': {'name': 'Milky Bar Chocolate ', 'price': 50, 'quantity': 100},\n",
              " '1021': {'name': 'Five star', 'price': 50, 'quantity': 330},\n",
              " '1022': {'name': 'Perk', 'price': 40, 'quantity': 90},\n",
              " '1023': {'name': 'Black Bourbon', 'price': 25, 'quantity': 150},\n",
              " '1024': {'name': 'Parle', 'price': 5, 'quantity': 100},\n",
              " '1025': {'name': 'Marie', 'price': 50, 'quantity': 50},\n",
              " '1026': {'name': 'Good Day', 'price': 20, 'quantity': 75},\n",
              " '1027': {'name': 'Oreo', 'price': 50, 'quantity': 40},\n",
              " '1028': {'name': 'Hide and seek', 'price': 10, 'quantity': 50},\n",
              " '1029': {'name': 'The Hershey Chocolate', 'price': 25, 'quantity': 80},\n",
              " '1030': {'name': 'Monacco', 'price': 15, 'quantity': 35},\n",
              " '1031': {'name': 'S', 'price': 50, 'quantity': 100}}"
            ]
          },
          "metadata": {},
          "execution_count": 26
        }
      ]
    },
    {
      "cell_type": "code",
      "metadata": {
        "id": "xiJMcQr2-CLl"
      },
      "source": [
        "del records['1031']"
      ],
      "execution_count": 28,
      "outputs": []
    },
    {
      "cell_type": "code",
      "metadata": {
        "colab": {
          "base_uri": "https://localhost:8080/"
        },
        "id": "YM_-FZtg-JY1",
        "outputId": "08549e49-4582-4134-eda1-1d4f7b20e460"
      },
      "source": [
        "records"
      ],
      "execution_count": 29,
      "outputs": [
        {
          "output_type": "execute_result",
          "data": {
            "text/plain": [
              "{'1001': {'name': 'Chocolate cake', 'price': 100, 'quantity': 30},\n",
              " '1002': {'name': 'Black Forest cake', 'price': 120, 'quantity': 40},\n",
              " '1003': {'name': 'Vanilla cake', 'price': 110, 'quantity': 35},\n",
              " '1004': {'name': 'Mango cake', 'price': 130, 'quantity': 80},\n",
              " '1005': {'name': 'Strawberry cake', 'price': 125, 'quantity': 50},\n",
              " '1006': {'name': 'Pineapple cake', 'price': 150, 'quantity': 40},\n",
              " '1007': {'name': 'Blueberry cake', 'price': 160, 'quantity': 30},\n",
              " '1008': {'name': 'Funfetti cake', 'price': 220, 'quantity': 50},\n",
              " '1009': {'name': 'Lemon cake', 'price': 525, 'quantity': 40},\n",
              " '1010': {'name': 'Coffee cake', 'price': 335, 'quantity': 60},\n",
              " '1011': {'name': 'Banana cake', 'price': 245, 'quantity': 75},\n",
              " '1012': {'name': 'Chocolate Pastry', 'price': 150, 'quantity': 190},\n",
              " '1013': {'name': 'Kit Kat Chocolate', 'price': 5, 'quantity': 80},\n",
              " '1014': {'name': 'American Red Velvet', 'price': 755, 'quantity': 90},\n",
              " '1015': {'name': 'Choco cake', 'price': 425, 'quantity': 35},\n",
              " '1016': {'name': 'Dairy Milk', 'price': 10, 'quantity': 90},\n",
              " '1017': {'name': 'Silk Cadbury', 'price': 50, 'quantity': 70},\n",
              " '1018': {'name': 'Snickers', 'price': 50, 'quantity': 100},\n",
              " '1019': {'name': 'Twix', 'price': 50, 'quantity': 90},\n",
              " '1020': {'name': 'Milky Bar Chocolate ', 'price': 50, 'quantity': 100},\n",
              " '1021': {'name': 'Five star', 'price': 50, 'quantity': 330},\n",
              " '1022': {'name': 'Perk', 'price': 40, 'quantity': 90},\n",
              " '1023': {'name': 'Black Bourbon', 'price': 25, 'quantity': 150},\n",
              " '1024': {'name': 'Parle', 'price': 5, 'quantity': 100},\n",
              " '1025': {'name': 'Marie', 'price': 50, 'quantity': 50},\n",
              " '1026': {'name': 'Good Day', 'price': 20, 'quantity': 75},\n",
              " '1027': {'name': 'Oreo', 'price': 50, 'quantity': 40},\n",
              " '1028': {'name': 'Hide and seek', 'price': 10, 'quantity': 50},\n",
              " '1029': {'name': 'The Hershey Chocolate', 'price': 25, 'quantity': 80},\n",
              " '1030': {'name': 'Monacco', 'price': 15, 'quantity': 35}}"
            ]
          },
          "metadata": {},
          "execution_count": 29
        }
      ]
    }
  ]
}